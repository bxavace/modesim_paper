{
 "cells": [
  {
   "cell_type": "code",
   "execution_count": 1,
   "metadata": {},
   "outputs": [],
   "source": [
    "from sklearn.svm import SVC\n",
    "from sklearn.linear_model import LogisticRegression\n",
    "from sklearn.metrics import accuracy_score, precision_score, recall_score, f1_score\n",
    "from sklearn.model_selection import GridSearchCV\n",
    "import pandas as pd"
   ]
  },
  {
   "cell_type": "code",
   "execution_count": 2,
   "metadata": {},
   "outputs": [],
   "source": [
    "X_tr = pd.read_csv('train_features.csv')\n",
    "y_tr = pd.read_csv('train_labels.csv')\n",
    "\n",
    "X_val = pd.read_csv('validation_features.csv')\n",
    "y_val = pd.read_csv('validation_labels.csv')\n",
    "\n",
    "X_te = pd.read_csv('test_features.csv')\n",
    "y_te = pd.read_csv('test_labels.csv')"
   ]
  },
  {
   "cell_type": "code",
   "execution_count": 15,
   "metadata": {},
   "outputs": [
    {
     "name": "stdout",
     "output_type": "stream",
     "text": [
      "Training set: 3781\n",
      "Validation set: 1261\n",
      "Test set: 1261\n",
      "Total size: 6303\n"
     ]
    }
   ],
   "source": [
    "print('Training set:', X_tr.shape[0])\n",
    "print('Validation set:', X_val.shape[0])\n",
    "print('Test set:', X_te.shape[0])\n",
    "print('Total size:', X_tr.shape[0] + X_val.shape[0] + X_te.shape[0])"
   ]
  },
  {
   "cell_type": "code",
   "execution_count": 4,
   "metadata": {},
   "outputs": [],
   "source": [
    "def print_results(results):\n",
    "    print(\"Best parameters: {}\\n\".format(results.best_params_))\n",
    "\n",
    "    means = results.cv_results_['mean_test_score']\n",
    "    stds = results.cv_results_['std_test_score']\n",
    "\n",
    "    for mean, std, params in zip(means, stds, results.cv_results_['params']):\n",
    "        print(\"Mean: {:.2f}, Std: {:.2f} for {}\".format(mean, std, params))"
   ]
  },
  {
   "cell_type": "code",
   "execution_count": 5,
   "metadata": {},
   "outputs": [
    {
     "name": "stdout",
     "output_type": "stream",
     "text": [
      "Best parameters: {'C': 1, 'kernel': 'linear'}\n",
      "\n",
      "Mean: 0.97, Std: 0.01 for {'C': 0.1, 'kernel': 'linear'}\n",
      "Mean: 0.98, Std: 0.01 for {'C': 1, 'kernel': 'linear'}\n",
      "Mean: 0.98, Std: 0.01 for {'C': 10, 'kernel': 'linear'}\n",
      "Mean: 0.98, Std: 0.01 for {'C': 100, 'kernel': 'linear'}\n"
     ]
    }
   ],
   "source": [
    "svc_tuned = SVC()\n",
    "parameters = {\n",
    "    'kernel': ['linear'],\n",
    "    'C': [0.1, 1, 10, 100]\n",
    "}\n",
    "\n",
    "cv = GridSearchCV(svc_tuned, parameters, cv=5)\n",
    "cv.fit(X_tr, y_tr.values.ravel())\n",
    "print_results(cv)"
   ]
  },
  {
   "cell_type": "code",
   "execution_count": 11,
   "metadata": {},
   "outputs": [
    {
     "name": "stdout",
     "output_type": "stream",
     "text": [
      "SVC(C=1, kernel='linear')\n"
     ]
    }
   ],
   "source": [
    "print(cv.best_estimator_)"
   ]
  },
  {
   "cell_type": "code",
   "execution_count": 6,
   "metadata": {},
   "outputs": [],
   "source": [
    "best_params = cv.best_params_"
   ]
  },
  {
   "cell_type": "code",
   "execution_count": 7,
   "metadata": {},
   "outputs": [
    {
     "data": {
      "text/html": [
       "<style>#sk-container-id-1 {color: black;}#sk-container-id-1 pre{padding: 0;}#sk-container-id-1 div.sk-toggleable {background-color: white;}#sk-container-id-1 label.sk-toggleable__label {cursor: pointer;display: block;width: 100%;margin-bottom: 0;padding: 0.3em;box-sizing: border-box;text-align: center;}#sk-container-id-1 label.sk-toggleable__label-arrow:before {content: \"▸\";float: left;margin-right: 0.25em;color: #696969;}#sk-container-id-1 label.sk-toggleable__label-arrow:hover:before {color: black;}#sk-container-id-1 div.sk-estimator:hover label.sk-toggleable__label-arrow:before {color: black;}#sk-container-id-1 div.sk-toggleable__content {max-height: 0;max-width: 0;overflow: hidden;text-align: left;background-color: #f0f8ff;}#sk-container-id-1 div.sk-toggleable__content pre {margin: 0.2em;color: black;border-radius: 0.25em;background-color: #f0f8ff;}#sk-container-id-1 input.sk-toggleable__control:checked~div.sk-toggleable__content {max-height: 200px;max-width: 100%;overflow: auto;}#sk-container-id-1 input.sk-toggleable__control:checked~label.sk-toggleable__label-arrow:before {content: \"▾\";}#sk-container-id-1 div.sk-estimator input.sk-toggleable__control:checked~label.sk-toggleable__label {background-color: #d4ebff;}#sk-container-id-1 div.sk-label input.sk-toggleable__control:checked~label.sk-toggleable__label {background-color: #d4ebff;}#sk-container-id-1 input.sk-hidden--visually {border: 0;clip: rect(1px 1px 1px 1px);clip: rect(1px, 1px, 1px, 1px);height: 1px;margin: -1px;overflow: hidden;padding: 0;position: absolute;width: 1px;}#sk-container-id-1 div.sk-estimator {font-family: monospace;background-color: #f0f8ff;border: 1px dotted black;border-radius: 0.25em;box-sizing: border-box;margin-bottom: 0.5em;}#sk-container-id-1 div.sk-estimator:hover {background-color: #d4ebff;}#sk-container-id-1 div.sk-parallel-item::after {content: \"\";width: 100%;border-bottom: 1px solid gray;flex-grow: 1;}#sk-container-id-1 div.sk-label:hover label.sk-toggleable__label {background-color: #d4ebff;}#sk-container-id-1 div.sk-serial::before {content: \"\";position: absolute;border-left: 1px solid gray;box-sizing: border-box;top: 0;bottom: 0;left: 50%;z-index: 0;}#sk-container-id-1 div.sk-serial {display: flex;flex-direction: column;align-items: center;background-color: white;padding-right: 0.2em;padding-left: 0.2em;position: relative;}#sk-container-id-1 div.sk-item {position: relative;z-index: 1;}#sk-container-id-1 div.sk-parallel {display: flex;align-items: stretch;justify-content: center;background-color: white;position: relative;}#sk-container-id-1 div.sk-item::before, #sk-container-id-1 div.sk-parallel-item::before {content: \"\";position: absolute;border-left: 1px solid gray;box-sizing: border-box;top: 0;bottom: 0;left: 50%;z-index: -1;}#sk-container-id-1 div.sk-parallel-item {display: flex;flex-direction: column;z-index: 1;position: relative;background-color: white;}#sk-container-id-1 div.sk-parallel-item:first-child::after {align-self: flex-end;width: 50%;}#sk-container-id-1 div.sk-parallel-item:last-child::after {align-self: flex-start;width: 50%;}#sk-container-id-1 div.sk-parallel-item:only-child::after {width: 0;}#sk-container-id-1 div.sk-dashed-wrapped {border: 1px dashed gray;margin: 0 0.4em 0.5em 0.4em;box-sizing: border-box;padding-bottom: 0.4em;background-color: white;}#sk-container-id-1 div.sk-label label {font-family: monospace;font-weight: bold;display: inline-block;line-height: 1.2em;}#sk-container-id-1 div.sk-label-container {text-align: center;}#sk-container-id-1 div.sk-container {/* jupyter's `normalize.less` sets `[hidden] { display: none; }` but bootstrap.min.css set `[hidden] { display: none !important; }` so we also need the `!important` here to be able to override the default hidden behavior on the sphinx rendered scikit-learn.org. See: https://github.com/scikit-learn/scikit-learn/issues/21755 */display: inline-block !important;position: relative;}#sk-container-id-1 div.sk-text-repr-fallback {display: none;}</style><div id=\"sk-container-id-1\" class=\"sk-top-container\"><div class=\"sk-text-repr-fallback\"><pre>LogisticRegression(max_iter=1000)</pre><b>In a Jupyter environment, please rerun this cell to show the HTML representation or trust the notebook. <br />On GitHub, the HTML representation is unable to render, please try loading this page with nbviewer.org.</b></div><div class=\"sk-container\" hidden><div class=\"sk-item\"><div class=\"sk-estimator sk-toggleable\"><input class=\"sk-toggleable__control sk-hidden--visually\" id=\"sk-estimator-id-1\" type=\"checkbox\" checked><label for=\"sk-estimator-id-1\" class=\"sk-toggleable__label sk-toggleable__label-arrow\">LogisticRegression</label><div class=\"sk-toggleable__content\"><pre>LogisticRegression(max_iter=1000)</pre></div></div></div></div></div>"
      ],
      "text/plain": [
       "LogisticRegression(max_iter=1000)"
      ]
     },
     "execution_count": 7,
     "metadata": {},
     "output_type": "execute_result"
    }
   ],
   "source": [
    "svm_base = SVC()\n",
    "svm_base.fit(X_tr, y_tr.values.ravel())\n",
    "\n",
    "svm_linear = SVC(kernel='linear')\n",
    "svm_linear.fit(X_tr, y_tr.values.ravel())\n",
    "\n",
    "svm_poly = SVC(kernel='poly')\n",
    "svm_poly.fit(X_tr, y_tr.values.ravel())\n",
    "\n",
    "svm_tuned = SVC(**best_params)\n",
    "svm_tuned.fit(X_tr, y_tr.values.ravel())\n",
    "\n",
    "lr_base = LogisticRegression(max_iter=1000)\n",
    "lr_base.fit(X_tr, y_tr.values.ravel())"
   ]
  },
  {
   "cell_type": "code",
   "execution_count": 8,
   "metadata": {},
   "outputs": [
    {
     "name": "stdout",
     "output_type": "stream",
     "text": [
      "Validation set results\n",
      "SVC()\n",
      "Accuracy: 94.77%\n",
      "Precision: 97.32%\n",
      "Recall: 81.15%\n",
      "F1: 88.50%\n",
      "\n",
      "SVC(kernel='linear')\n",
      "Accuracy: 97.30%\n",
      "Precision: 96.66%\n",
      "Recall: 92.33%\n",
      "F1: 94.44%\n",
      "\n",
      "SVC(kernel='poly')\n",
      "Accuracy: 94.21%\n",
      "Precision: 95.45%\n",
      "Recall: 80.51%\n",
      "F1: 87.35%\n",
      "\n",
      "SVC(C=1, kernel='linear')\n",
      "Accuracy: 97.30%\n",
      "Precision: 96.66%\n",
      "Recall: 92.33%\n",
      "F1: 94.44%\n",
      "\n",
      "LogisticRegression(max_iter=1000)\n",
      "Accuracy: 96.91%\n",
      "Precision: 96.60%\n",
      "Recall: 90.73%\n",
      "F1: 93.57%\n",
      "\n"
     ]
    }
   ],
   "source": [
    "print(\"Validation set results\")\n",
    "for mdl in [svm_base, svm_linear, svm_poly, svm_tuned, lr_base]:\n",
    "    y_pred = mdl.predict(X_val)\n",
    "    accuracy = accuracy_score(y_val, y_pred) * 100\n",
    "    precision = precision_score(y_val, y_pred) * 100\n",
    "    recall = recall_score(y_val, y_pred) * 100\n",
    "    f1 = f1_score(y_val, y_pred) * 100\n",
    "    \n",
    "    print(mdl)\n",
    "    print(\"Accuracy: {:.2f}%\".format(accuracy))\n",
    "    print(\"Precision: {:.2f}%\".format(precision))\n",
    "    print(\"Recall: {:.2f}%\".format(recall))\n",
    "    print(\"F1: {:.2f}%\".format(f1))\n",
    "    print()"
   ]
  },
  {
   "cell_type": "code",
   "execution_count": 16,
   "metadata": {},
   "outputs": [
    {
     "data": {
      "text/plain": [
       "['best_model.pkl']"
      ]
     },
     "execution_count": 16,
     "metadata": {},
     "output_type": "execute_result"
    }
   ],
   "source": [
    "import joblib\n",
    "\n",
    "joblib.dump(svm_tuned, 'best_model.pkl')"
   ]
  },
  {
   "cell_type": "code",
   "execution_count": 12,
   "metadata": {},
   "outputs": [
    {
     "name": "stdout",
     "output_type": "stream",
     "text": [
      "Test set results for the best model\n",
      "Accuracy: 97.46%\n",
      "Precision: 96.44%\n",
      "Recall: 92.49%\n",
      "F1: 94.43%\n",
      "\n"
     ]
    }
   ],
   "source": [
    "print(\"Test set results for the best model\")\n",
    "y_pred = svm_tuned.predict(X_te)\n",
    "accuracy = accuracy_score(y_te, y_pred) * 100\n",
    "precision = precision_score(y_te, y_pred) * 100\n",
    "recall = recall_score(y_te, y_pred) * 100\n",
    "f1 = f1_score(y_te, y_pred) * 100\n",
    "\n",
    "print(\"Accuracy: {:.2f}%\".format(accuracy))\n",
    "print(\"Precision: {:.2f}%\".format(precision))\n",
    "print(\"Recall: {:.2f}%\".format(recall))\n",
    "print(\"F1: {:.2f}%\".format(f1))\n",
    "print()"
   ]
  },
  {
   "cell_type": "code",
   "execution_count": 9,
   "metadata": {},
   "outputs": [
    {
     "name": "stdout",
     "output_type": "stream",
     "text": [
      "Test set results\n",
      "SVC()\n",
      "Accuracy: 94.92%\n",
      "Precision: 95.98%\n",
      "Recall: 81.57%\n",
      "F1: 88.19%\n",
      "\n",
      "SVC(kernel='linear')\n",
      "Accuracy: 97.46%\n",
      "Precision: 96.44%\n",
      "Recall: 92.49%\n",
      "F1: 94.43%\n",
      "\n",
      "SVC(kernel='poly')\n",
      "Accuracy: 94.69%\n",
      "Precision: 95.56%\n",
      "Recall: 80.89%\n",
      "F1: 87.62%\n",
      "\n",
      "SVC(C=1, kernel='linear')\n",
      "Accuracy: 97.46%\n",
      "Precision: 96.44%\n",
      "Recall: 92.49%\n",
      "F1: 94.43%\n",
      "\n",
      "LogisticRegression(max_iter=1000)\n",
      "Accuracy: 97.30%\n",
      "Precision: 96.75%\n",
      "Recall: 91.47%\n",
      "F1: 94.04%\n",
      "\n"
     ]
    }
   ],
   "source": [
    "print(\"Test set results\")\n",
    "for mdl in [svm_base, svm_linear, svm_poly, svm_tuned, lr_base]:\n",
    "    y_pred = mdl.predict(X_te)\n",
    "    accuracy = accuracy_score(y_te, y_pred) * 100\n",
    "    precision = precision_score(y_te, y_pred) * 100\n",
    "    recall = recall_score(y_te, y_pred) * 100\n",
    "    f1 = f1_score(y_te, y_pred) * 100\n",
    "    \n",
    "    print(mdl)\n",
    "    print(\"Accuracy: {:.2f}%\".format(accuracy))\n",
    "    print(\"Precision: {:.2f}%\".format(precision))\n",
    "    print(\"Recall: {:.2f}%\".format(recall))\n",
    "    print(\"F1: {:.2f}%\".format(f1))\n",
    "    print()"
   ]
  }
 ],
 "metadata": {
  "kernelspec": {
   "display_name": "Python 3",
   "language": "python",
   "name": "python3"
  },
  "language_info": {
   "codemirror_mode": {
    "name": "ipython",
    "version": 3
   },
   "file_extension": ".py",
   "mimetype": "text/x-python",
   "name": "python",
   "nbconvert_exporter": "python",
   "pygments_lexer": "ipython3",
   "version": "3.10.5"
  }
 },
 "nbformat": 4,
 "nbformat_minor": 2
}
